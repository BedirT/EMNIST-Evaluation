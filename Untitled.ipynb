{
 "cells": [
  {
   "cell_type": "code",
   "execution_count": 7,
   "metadata": {
    "scrolled": true
   },
   "outputs": [
    {
     "name": "stdout",
     "output_type": "stream",
     "text": [
      "Collecting tensorflow_datasets\n",
      "\u001b[?25l  Downloading https://files.pythonhosted.org/packages/e2/14/900746f9b8e1ed8ea93661f1a62b3937a5a25858d550ece38de8ea579f2d/tensorflow_datasets-1.3.0-py3-none-any.whl (2.4MB)\n",
      "\u001b[K     |████████████████████████████████| 2.4MB 1.4MB/s eta 0:00:01\n",
      "\u001b[?25hCollecting dill\n",
      "  Using cached https://files.pythonhosted.org/packages/c7/11/345f3173809cea7f1a193bfbf02403fff250a3360e0e118a1630985e547d/dill-0.3.1.1.tar.gz\n",
      "Requirement already satisfied: attrs in /Users/mustafatapkan/anaconda3/lib/python3.7/site-packages (from tensorflow_datasets) (18.2.0)\n",
      "Collecting promise\n",
      "  Using cached https://files.pythonhosted.org/packages/5a/81/221d09d90176fd90aed4b530e31b8fedf207385767c06d1d46c550c5e418/promise-2.2.1.tar.gz\n",
      "  Ignoring typing: markers 'python_version < \"3.5\"' don't match your environment\n",
      "Requirement already satisfied: termcolor in /Users/mustafatapkan/anaconda3/lib/python3.7/site-packages (from tensorflow_datasets) (1.1.0)\n",
      "Requirement already satisfied: future in /Users/mustafatapkan/anaconda3/lib/python3.7/site-packages (from tensorflow_datasets) (0.15.2)\n",
      "Requirement already satisfied: absl-py in /Users/mustafatapkan/anaconda3/lib/python3.7/site-packages (from tensorflow_datasets) (0.7.1)\n",
      "Collecting tensorflow-metadata\n",
      "  Using cached https://files.pythonhosted.org/packages/bd/00/f353385e40f7962b63b94d17f7050b5853bc20c243483cff0cb3da03d206/tensorflow_metadata-0.15.1-py2.py3-none-any.whl\n",
      "Requirement already satisfied: tqdm in /Users/mustafatapkan/anaconda3/lib/python3.7/site-packages (from tensorflow_datasets) (4.28.1)\n",
      "Requirement already satisfied: wrapt in /Users/mustafatapkan/anaconda3/lib/python3.7/site-packages (from tensorflow_datasets) (1.10.11)\n",
      "Requirement already satisfied: numpy in /Users/mustafatapkan/anaconda3/lib/python3.7/site-packages (from tensorflow_datasets) (1.16.2)\n",
      "Requirement already satisfied: six in /Users/mustafatapkan/anaconda3/lib/python3.7/site-packages (from tensorflow_datasets) (1.12.0)\n",
      "Requirement already satisfied: requests>=2.19.0 in /Users/mustafatapkan/anaconda3/lib/python3.7/site-packages (from tensorflow_datasets) (2.21.0)\n",
      "Requirement already satisfied: protobuf>=3.6.1 in /Users/mustafatapkan/anaconda3/lib/python3.7/site-packages (from tensorflow_datasets) (3.7.1)\n",
      "Collecting googleapis-common-protos\n",
      "  Using cached https://files.pythonhosted.org/packages/eb/ee/e59e74ecac678a14d6abefb9054f0bbcb318a6452a30df3776f133886d7d/googleapis-common-protos-1.6.0.tar.gz\n",
      "\u001b[31m    ERROR: Command errored out with exit status 1:\n",
      "     command: /Users/mustafatapkan/anaconda3/bin/python -c 'import sys, setuptools, tokenize; sys.argv[0] = '\"'\"'/private/var/folders/pq/6jtvwq5d3cq4660pqpdv2ggw0000gn/T/pip-install-3t9eyg6s/googleapis-common-protos/setup.py'\"'\"'; __file__='\"'\"'/private/var/folders/pq/6jtvwq5d3cq4660pqpdv2ggw0000gn/T/pip-install-3t9eyg6s/googleapis-common-protos/setup.py'\"'\"';f=getattr(tokenize, '\"'\"'open'\"'\"', open)(__file__);code=f.read().replace('\"'\"'\\r\\n'\"'\"', '\"'\"'\\n'\"'\"');f.close();exec(compile(code, __file__, '\"'\"'exec'\"'\"'))' egg_info --egg-base /private/var/folders/pq/6jtvwq5d3cq4660pqpdv2ggw0000gn/T/pip-install-3t9eyg6s/googleapis-common-protos/pip-egg-info\n",
      "         cwd: /private/var/folders/pq/6jtvwq5d3cq4660pqpdv2ggw0000gn/T/pip-install-3t9eyg6s/googleapis-common-protos/\n",
      "    Complete output (25 lines):\n",
      "    Traceback (most recent call last):\n",
      "      File \"<string>\", line 1, in <module>\n",
      "      File \"/Users/mustafatapkan/anaconda3/lib/python3.7/site-packages/setuptools/__init__.py\", line 11, in <module>\n",
      "        from setuptools.extern.six.moves import filterfalse, map\n",
      "      File \"/Users/mustafatapkan/anaconda3/lib/python3.7/site-packages/setuptools/extern/__init__.py\", line 1, in <module>\n",
      "        from pkg_resources.extern import VendorImporter\n",
      "      File \"/Users/mustafatapkan/anaconda3/lib/python3.7/site-packages/pkg_resources/__init__.py\", line 2912, in <module>\n",
      "        @_call_aside\n",
      "      File \"/Users/mustafatapkan/anaconda3/lib/python3.7/site-packages/pkg_resources/__init__.py\", line 2898, in _call_aside\n",
      "        f(*args, **kwargs)\n",
      "      File \"/Users/mustafatapkan/anaconda3/lib/python3.7/site-packages/pkg_resources/__init__.py\", line 2937, in _initialize_master_working_set\n",
      "        add_activation_listener(lambda dist: dist.activate())\n",
      "      File \"/Users/mustafatapkan/anaconda3/lib/python3.7/site-packages/pkg_resources/__init__.py\", line 956, in subscribe\n",
      "        callback(dist)\n",
      "      File \"/Users/mustafatapkan/anaconda3/lib/python3.7/site-packages/pkg_resources/__init__.py\", line 2937, in <lambda>\n",
      "        add_activation_listener(lambda dist: dist.activate())\n",
      "      File \"/Users/mustafatapkan/anaconda3/lib/python3.7/site-packages/pkg_resources/__init__.py\", line 2488, in activate\n",
      "        declare_namespace(pkg)\n",
      "      File \"/Users/mustafatapkan/anaconda3/lib/python3.7/site-packages/pkg_resources/__init__.py\", line 2070, in declare_namespace\n",
      "        _handle_ns(packageName, path_item)\n",
      "      File \"/Users/mustafatapkan/anaconda3/lib/python3.7/site-packages/pkg_resources/__init__.py\", line 2021, in _handle_ns\n",
      "        _rebuild_mod_path(path, packageName, module)\n",
      "      File \"/Users/mustafatapkan/anaconda3/lib/python3.7/site-packages/pkg_resources/__init__.py\", line 2039, in _rebuild_mod_path\n",
      "        orig_path.sort(key=position_in_sys_path)\n",
      "    AttributeError: '_NamespacePath' object has no attribute 'sort'\n",
      "    ----------------------------------------\u001b[0m\n",
      "\u001b[31mERROR: Command errored out with exit status 1: python setup.py egg_info Check the logs for full command output.\u001b[0m\n"
     ]
    }
   ],
   "source": [
    "#installing preliminaries\n",
    "!pip3 install tensorflow_datasets"
   ]
  },
  {
   "cell_type": "code",
   "execution_count": 8,
   "metadata": {},
   "outputs": [
    {
     "ename": "ModuleNotFoundError",
     "evalue": "No module named 'tensorflow_datasets'",
     "output_type": "error",
     "traceback": [
      "\u001b[0;31m---------------------------------------------------------------------------\u001b[0m",
      "\u001b[0;31mModuleNotFoundError\u001b[0m                       Traceback (most recent call last)",
      "\u001b[0;32m<ipython-input-8-6cc57f98d2e5>\u001b[0m in \u001b[0;36m<module>\u001b[0;34m\u001b[0m\n\u001b[1;32m      1\u001b[0m \u001b[0;32mimport\u001b[0m \u001b[0mtensorflow\u001b[0m \u001b[0;32mas\u001b[0m \u001b[0mtf\u001b[0m\u001b[0;34m\u001b[0m\u001b[0;34m\u001b[0m\u001b[0m\n\u001b[0;32m----> 2\u001b[0;31m \u001b[0;32mimport\u001b[0m \u001b[0mtensorflow_datasets\u001b[0m \u001b[0;32mas\u001b[0m \u001b[0mtfds\u001b[0m\u001b[0;34m\u001b[0m\u001b[0;34m\u001b[0m\u001b[0m\n\u001b[0m\u001b[1;32m      3\u001b[0m \u001b[0;34m\u001b[0m\u001b[0m\n\u001b[1;32m      4\u001b[0m \u001b[0;31m# See all registered datasets\u001b[0m\u001b[0;34m\u001b[0m\u001b[0;34m\u001b[0m\u001b[0;34m\u001b[0m\u001b[0m\n\u001b[1;32m      5\u001b[0m \u001b[0mtfds\u001b[0m\u001b[0;34m.\u001b[0m\u001b[0mlist_builders\u001b[0m\u001b[0;34m(\u001b[0m\u001b[0;34m)\u001b[0m\u001b[0;34m\u001b[0m\u001b[0;34m\u001b[0m\u001b[0m\n",
      "\u001b[0;31mModuleNotFoundError\u001b[0m: No module named 'tensorflow_datasets'"
     ]
    }
   ],
   "source": [
    "import tensorflow as tf\n",
    "import tensorflow_datasets as tfds"
   ]
  },
  {
   "cell_type": "code",
   "execution_count": null,
   "metadata": {},
   "outputs": [],
   "source": [
    "# Load a given dataset by name, along with the DatasetInfo\n",
    "data, info = tfds.load(\"emnist\", with_info=True)\n",
    "train_data, test_data = data['train'], data['test']"
   ]
  },
  {
   "cell_type": "code",
   "execution_count": null,
   "metadata": {},
   "outputs": [],
   "source": []
  },
  {
   "cell_type": "code",
   "execution_count": null,
   "metadata": {},
   "outputs": [],
   "source": []
  }
 ],
 "metadata": {
  "kernelspec": {
   "display_name": "Python 3",
   "language": "python",
   "name": "python3"
  },
  "language_info": {
   "codemirror_mode": {
    "name": "ipython",
    "version": 3
   },
   "file_extension": ".py",
   "mimetype": "text/x-python",
   "name": "python",
   "nbconvert_exporter": "python",
   "pygments_lexer": "ipython3",
   "version": "3.7.1"
  }
 },
 "nbformat": 4,
 "nbformat_minor": 2
}
